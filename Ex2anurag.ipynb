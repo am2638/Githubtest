{
 "cells": [
  {
   "cell_type": "markdown",
   "metadata": {},
   "source": [
    "**Save your ipython notebook with your name and push to bootcamp002_student/pythonWeek1Day2/**"
   ]
  },
  {
   "cell_type": "markdown",
   "metadata": {
    "internals": {
     "slide_helper": "subslide_end",
     "slide_type": "subslide"
    },
    "slide_helper": "slide_end",
    "slideshow": {
     "slide_type": "slide"
    }
   },
   "source": [
    "# Part 1: Class"
   ]
  },
  {
   "cell_type": "markdown",
   "metadata": {
    "internals": {
     "slide_type": "subslide"
    },
    "slideshow": {
     "slide_type": "slide"
    }
   },
   "source": [
    "(1) Define a new class named **Coordinate**, which is used to represent a  2D coordinate system. Initialize two attributes *x* and *y* when create a object."
   ]
  },
  {
   "cell_type": "code",
   "execution_count": 10,
   "metadata": {
    "collapsed": false,
    "internals": {},
    "slideshow": {
     "slide_type": "-"
    }
   },
   "outputs": [],
   "source": [
    "### write your code here\n",
    "class Coordinate(object):\n",
    "    def __init__(axis,x,y):\n",
    "        axis.x = x\n",
    "        axis.y = y"
   ]
  },
  {
   "cell_type": "markdown",
   "metadata": {
    "internals": {},
    "slideshow": {
     "slide_type": "-"
    }
   },
   "source": [
    "Here are some tests:"
   ]
  },
  {
   "cell_type": "code",
   "execution_count": 11,
   "metadata": {
    "collapsed": false,
    "internals": {},
    "slideshow": {
     "slide_type": "-"
    }
   },
   "outputs": [
    {
     "name": "stdout",
     "output_type": "stream",
     "text": [
      "2\n",
      "3\n"
     ]
    }
   ],
   "source": [
    "coor1 = Coordinate(2,3)\n",
    "print coor1.x # 2\n",
    "print coor1.y # 3"
   ]
  },
  {
   "cell_type": "code",
   "execution_count": 12,
   "metadata": {
    "collapsed": false,
    "internals": {
     "slide_helper": "subslide_end"
    },
    "slide_helper": "slide_end",
    "slideshow": {
     "slide_type": "-"
    }
   },
   "outputs": [
    {
     "name": "stdout",
     "output_type": "stream",
     "text": [
      "-5\n",
      "15\n"
     ]
    }
   ],
   "source": [
    "coor1 = Coordinate(-5, 15)\n",
    "print coor1.x # -5\n",
    "print coor1.y # 15"
   ]
  },
  {
   "cell_type": "markdown",
   "metadata": {
    "internals": {
     "slide_type": "subslide"
    },
    "slideshow": {
     "slide_type": "slide"
    }
   },
   "source": [
    "(2) Add two methods for the class **Coordinate**:\n",
    "    - getX(): return the attribute x\n",
    "    - getY(): return the attribute y."
   ]
  },
  {
   "cell_type": "code",
   "execution_count": 13,
   "metadata": {
    "collapsed": false,
    "internals": {},
    "slideshow": {
     "slide_type": "-"
    }
   },
   "outputs": [],
   "source": [
    "### Copy the previous code and change it here\n",
    "### write your code here\n",
    "class Coordinate(object):\n",
    "    def __init__(axis,x,y):\n",
    "        axis.x = x\n",
    "        axis.y = y\n",
    "    def getX(axis):\n",
    "        return axis.x\n",
    "    def getY(axis):\n",
    "        return axis.y"
   ]
  },
  {
   "cell_type": "markdown",
   "metadata": {
    "internals": {},
    "slideshow": {
     "slide_type": "-"
    }
   },
   "source": [
    "Here are some tests:"
   ]
  },
  {
   "cell_type": "code",
   "execution_count": 14,
   "metadata": {
    "collapsed": false,
    "internals": {},
    "slideshow": {
     "slide_type": "-"
    }
   },
   "outputs": [
    {
     "name": "stdout",
     "output_type": "stream",
     "text": [
      "2\n",
      "3\n"
     ]
    }
   ],
   "source": [
    "coor1 = Coordinate(2, 3)\n",
    "print coor1.getX() # 2\n",
    "print coor1.getY() # 3"
   ]
  },
  {
   "cell_type": "code",
   "execution_count": 15,
   "metadata": {
    "collapsed": false,
    "internals": {
     "slide_helper": "subslide_end"
    },
    "slide_helper": "slide_end",
    "slideshow": {
     "slide_type": "-"
    }
   },
   "outputs": [
    {
     "name": "stdout",
     "output_type": "stream",
     "text": [
      "-5\n",
      "15\n"
     ]
    }
   ],
   "source": [
    "coor1 = Coordinate(-5, 15)\n",
    "print coor1.getX() # -5\n",
    "print coor1.getY() # 15"
   ]
  },
  {
   "cell_type": "markdown",
   "metadata": {
    "internals": {
     "slide_type": "subslide"
    },
    "slideshow": {
     "slide_type": "slide"
    }
   },
   "source": [
    "(3) Add a `__str__` method for class **Coordinate**, so that when print a Coordinate object return its x value and y value."
   ]
  },
  {
   "cell_type": "code",
   "execution_count": 22,
   "metadata": {
    "collapsed": false,
    "internals": {},
    "slideshow": {
     "slide_type": "-"
    }
   },
   "outputs": [],
   "source": [
    "### Copy the previous code and change it here\n",
    "class Coordinate(object):\n",
    "    def __init__(axis,x,y):\n",
    "        axis.x = x\n",
    "        axis.y = y\n",
    "    def getX(axis):\n",
    "        return axis.x\n",
    "    def getY(axis):\n",
    "        return axis.y\n",
    "    def __str__(axis):\n",
    "        return \"coor # <%s,%s>\"%(axis.x,axis.y)"
   ]
  },
  {
   "cell_type": "markdown",
   "metadata": {
    "internals": {},
    "slideshow": {
     "slide_type": "-"
    }
   },
   "source": [
    "Here are some tests:"
   ]
  },
  {
   "cell_type": "code",
   "execution_count": 23,
   "metadata": {
    "collapsed": false,
    "internals": {},
    "slideshow": {
     "slide_type": "-"
    }
   },
   "outputs": [
    {
     "name": "stdout",
     "output_type": "stream",
     "text": [
      "coor # <2,3>\n"
     ]
    }
   ],
   "source": [
    "coor1 = Coordinate(2, 3)\n",
    "print coor1 # <2,3>"
   ]
  },
  {
   "cell_type": "code",
   "execution_count": 24,
   "metadata": {
    "collapsed": false,
    "internals": {
     "slide_helper": "subslide_end"
    },
    "slide_helper": "slide_end",
    "slideshow": {
     "slide_type": "-"
    }
   },
   "outputs": [
    {
     "name": "stdout",
     "output_type": "stream",
     "text": [
      "coor # <-5,15>\n"
     ]
    }
   ],
   "source": [
    "coor2 = Coordinate(-5, 15)\n",
    "print coor2 # <-5,15>"
   ]
  },
  {
   "cell_type": "markdown",
   "metadata": {
    "internals": {
     "slide_type": "subslide"
    },
    "slideshow": {
     "slide_type": "slide"
    }
   },
   "source": [
    "(4) Add a `__eq__` method for class Coordinate. Given two Coordinate object, return `True` if their x and y are all equal, otherwise return `False`."
   ]
  },
  {
   "cell_type": "code",
   "execution_count": 25,
   "metadata": {
    "collapsed": false,
    "internals": {},
    "slideshow": {
     "slide_type": "-"
    }
   },
   "outputs": [],
   "source": [
    "### Copy the previous code and change it here\n",
    "class Coordinate(object):\n",
    "    def __init__(axis,x,y):\n",
    "        axis.x = x\n",
    "        axis.y = y\n",
    "    def getX(axis):\n",
    "        return axis.x\n",
    "    def getY(axis):\n",
    "        return axis.y\n",
    "    def __str__(axis):\n",
    "        return \"coor # <%s,%s>\"%(axis.x,axis.y)\n",
    "    def __eq__(axis,other):\n",
    "        if axis.x == other.x and axis.y == other.y:\n",
    "            return 'True'\n",
    "        else:\n",
    "            return 'False'\n",
    "        "
   ]
  },
  {
   "cell_type": "markdown",
   "metadata": {
    "internals": {},
    "slideshow": {
     "slide_type": "-"
    }
   },
   "source": [
    "Here are some tests:"
   ]
  },
  {
   "cell_type": "code",
   "execution_count": 26,
   "metadata": {
    "collapsed": false,
    "internals": {},
    "slideshow": {
     "slide_type": "-"
    }
   },
   "outputs": [
    {
     "name": "stdout",
     "output_type": "stream",
     "text": [
      "False\n",
      "True\n",
      "False\n",
      "True\n",
      "False\n"
     ]
    }
   ],
   "source": [
    "coor1 = Coordinate(2, 3)\n",
    "coor2 = Coordinate(-5, 15)\n",
    "coor3 = Coordinate(2.0, 3)\n",
    "coor4 = Coordinate(-5, 15.0)\n",
    "print coor1.__eq__(coor2) # False\n",
    "print coor1.__eq__(coor3) # True\n",
    "print coor2.__eq__(coor3) # False\n",
    "print coor2.__eq__(coor4) # True\n",
    "print coor1.__eq__(coor4) # False"
   ]
  },
  {
   "cell_type": "markdown",
   "metadata": {
    "internals": {},
    "slideshow": {
     "slide_type": "-"
    }
   },
   "source": [
    "Given two Coordinate objects `obj1` and `obj2`, `obj1.__eq__(obj2)` is equivalent to `obj1 == obj2`. \n",
    "\n",
    "When print an object, the `__str__` method is called, when `==` is used to compare two objects, the `__eq__` method is called.\n",
    "\n",
    "So the following codes return exactly the same results."
   ]
  },
  {
   "cell_type": "code",
   "execution_count": 27,
   "metadata": {
    "collapsed": false,
    "internals": {
     "slide_helper": "subslide_end"
    },
    "slide_helper": "slide_end",
    "slideshow": {
     "slide_type": "-"
    }
   },
   "outputs": [
    {
     "name": "stdout",
     "output_type": "stream",
     "text": [
      "False\n",
      "True\n",
      "False\n",
      "True\n",
      "False\n"
     ]
    }
   ],
   "source": [
    "print coor1 == coor2 # False\n",
    "print coor1 == coor3 # True\n",
    "print coor2 == coor3 # False\n",
    "print coor2 == coor4 # True\n",
    "print coor1 == coor4 # False"
   ]
  },
  {
   "cell_type": "markdown",
   "metadata": {
    "internals": {
     "slide_type": "subslide"
    },
    "slideshow": {
     "slide_type": "slide"
    }
   },
   "source": [
    "(5) Add a `__add__` method for class Coordinate. Given two Coordinate object obj1 and obj2, `obj1.__add__(obj2)` return a new Coordinate object whose x is the sum of `obj1.x` and `obj2.x`, and y is the sum of `obj1.y` and `obj2.y`."
   ]
  },
  {
   "cell_type": "code",
   "execution_count": 48,
   "metadata": {
    "collapsed": false,
    "internals": {},
    "slideshow": {
     "slide_type": "-"
    }
   },
   "outputs": [],
   "source": [
    "### Copy the previous code and change it here\n",
    "class Coordinate(object):\n",
    "    def __init__(axis,x,y):\n",
    "        axis.x = x\n",
    "        axis.y = y\n",
    "    def getX(axis):\n",
    "        return axis.x\n",
    "    def getY(axis):\n",
    "        return axis.y\n",
    "    def __str__(axis):\n",
    "        return \"coor # <%s,%s>\"%(axis.x,axis.y)\n",
    "    def __eq__(axis,other):\n",
    "        if axis.x == other.x and axis.y == other.y:\n",
    "            return 'True'\n",
    "        else:\n",
    "             return 'False'\n",
    "    def __add__(axis,other):\n",
    "        final_x = axis.x + other.x\n",
    "        final_y = axis.y + other.y\n",
    "        return final_x,final_y\n",
    "           \n",
    "        "
   ]
  },
  {
   "cell_type": "markdown",
   "metadata": {
    "internals": {},
    "slideshow": {
     "slide_type": "-"
    }
   },
   "source": [
    "Here are some tests:"
   ]
  },
  {
   "cell_type": "code",
   "execution_count": 49,
   "metadata": {
    "collapsed": false,
    "internals": {},
    "slideshow": {
     "slide_type": "-"
    }
   },
   "outputs": [
    {
     "name": "stdout",
     "output_type": "stream",
     "text": [
      "<type 'tuple'>\n",
      "False\n",
      "(-3, 18)\n"
     ]
    }
   ],
   "source": [
    "coor1 = Coordinate(2, 3)\n",
    "coor2 = Coordinate(-5, 15)\n",
    "coor3 = coor1.__add__(coor2)\n",
    "print type(coor3) # Coordinate\n",
    "print isinstance(coor3, Coordinate) # True\n",
    "print coor3   # <-3,18>"
   ]
  },
  {
   "cell_type": "markdown",
   "metadata": {
    "internals": {},
    "slideshow": {
     "slide_type": "-"
    }
   },
   "source": [
    "When `+` is used between two objects, the `__add__` method is called. So `coor3 = coor1 + coor2` is equivalent to `coor3 = coor1.__add__(coor2)`"
   ]
  },
  {
   "cell_type": "code",
   "execution_count": 50,
   "metadata": {
    "collapsed": false,
    "internals": {
     "slide_helper": "subslide_end"
    },
    "slide_helper": "slide_end",
    "slideshow": {
     "slide_type": "-"
    }
   },
   "outputs": [
    {
     "name": "stdout",
     "output_type": "stream",
     "text": [
      "<type 'tuple'>\n",
      "False\n",
      "(-3, 18)\n"
     ]
    }
   ],
   "source": [
    "coor3 = coor1 + coor2\n",
    "print type(coor3) # Coordinate\n",
    "print isinstance(coor3, Coordinate) # True\n",
    "print coor3   # <-3,18>"
   ]
  },
  {
   "cell_type": "markdown",
   "metadata": {
    "internals": {
     "slide_helper": "subslide_end",
     "slide_type": "subslide"
    },
    "slide_helper": "slide_end",
    "slideshow": {
     "slide_type": "slide"
    }
   },
   "source": [
    "# Part 2: File & Script"
   ]
  },
  {
   "cell_type": "markdown",
   "metadata": {
    "internals": {
     "slide_type": "subslide"
    },
    "slideshow": {
     "slide_type": "slide"
    }
   },
   "source": [
    "(1) Write the following codes into a file named 'add.py' by using the function **open**."
   ]
  },
  {
   "cell_type": "code",
   "execution_count": null,
   "metadata": {
    "collapsed": false,
    "internals": {},
    "slideshow": {
     "slide_type": "-"
    }
   },
   "outputs": [],
   "source": [
    "from sys import argv\n",
    "script, num1, num2 = argv\n",
    "print float(num1) + float(num2)"
   ]
  },
  {
   "cell_type": "code",
   "execution_count": 51,
   "metadata": {
    "collapsed": false,
    "internals": {},
    "slideshow": {
     "slide_type": "-"
    }
   },
   "outputs": [],
   "source": [
    "### write your codes here\n",
    "script1_path = 'C:/Users/Anurag/Desktop/Python/add.py'\n",
    "with open(script1_path,'w') as f:\n",
    "    f.write('''from sys import argv\n",
    "script, num1, num2 = argv\n",
    "print float(num1) + float(num2)''')"
   ]
  },
  {
   "cell_type": "markdown",
   "metadata": {
    "internals": {},
    "slideshow": {
     "slide_type": "-"
    }
   },
   "source": [
    "After writing your codes, you could run the following command and get the corresponding results.  Make sure the python file is save in the same directory where this ipython notebook is saved.  And also check when you commit, do NOT include your `add.py` file (do not `git add` it)."
   ]
  },
  {
   "cell_type": "code",
   "execution_count": 58,
   "metadata": {
    "collapsed": false,
    "internals": {
     "slide_helper": "subslide_end"
    },
    "slide_helper": "slide_end",
    "slideshow": {
     "slide_type": "-"
    }
   },
   "outputs": [
    {
     "name": "stdout",
     "output_type": "stream",
     "text": [
      "3.0\n",
      "30.0\n",
      "37.0\n",
      "37.0\n",
      "30.0\n",
      "3.0\n"
     ]
    }
   ],
   "source": [
    "!python add.py 1 2\n",
    "!python add.py 10 20\n",
    "!python add.py 15 22\n",
    "!python add.py 22 15\n",
    "!python add.py 20 10\n",
    "!python add.py 2 1 "
   ]
  },
  {
   "cell_type": "markdown",
   "metadata": {
    "internals": {
     "slide_type": "subslide"
    },
    "slideshow": {
     "slide_type": "slide"
    }
   },
   "source": [
    "(2) Write a script named 'calculator.py' which has two arguments.\n",
    "    - The second argument is an expression like '1+1'. \n",
    "    - The expression consist of two numbers and an operator(+, -, *, /) between the numbers.\n",
    "    - This script should return the result of the expression.\n",
    "\n",
    "Make sure the python file is save in the same directory, where this ipython notebook saved. And also check when you commit, do NOT include your `calculator.py` file (do not `git add` it).  Instead, paste your code in the cell below."
   ]
  },
  {
   "cell_type": "code",
   "execution_count": 64,
   "metadata": {
    "collapsed": false,
    "internals": {},
    "slideshow": {
     "slide_type": "-"
    }
   },
   "outputs": [],
   "source": [
    "### write your codes here\n",
    "script1_path = 'C:/Users/Anurag/Desktop/Python/calculator.py'\n",
    "with open(script1_path,'w') as f:\n",
    "    f.write('''from sys import argv\n",
    "script, expr = argv\n",
    "\n",
    "p = expr.find('+')\n",
    "if p != -1:\n",
    "    num = expr.split('+')\n",
    "    result = float(num[0]) + float(num[1])\n",
    "    \n",
    "p = expr.find('-')\n",
    "if p != -1:\n",
    "    num = expr.split('-')\n",
    "    result = float(num[0]) - float(num[1])\n",
    "    \n",
    "p = expr.find('*')\n",
    "if p != -1:\n",
    "    num = expr.split('*')\n",
    "    result = float(num[0]) * float(num[1])    \n",
    "p = expr.find('/')\n",
    "if p != -1:\n",
    "    num = expr.split('/')\n",
    "    result = float(num[0])/float(num[1])\n",
    "\n",
    "    \n",
    "print result''')"
   ]
  },
  {
   "cell_type": "markdown",
   "metadata": {
    "internals": {},
    "slideshow": {
     "slide_type": "-"
    }
   },
   "source": [
    "Here are some tests:"
   ]
  },
  {
   "cell_type": "code",
   "execution_count": 65,
   "metadata": {
    "collapsed": false,
    "internals": {
     "slide_helper": "subslide_end"
    },
    "slide_helper": "slide_end",
    "slideshow": {
     "slide_type": "-"
    }
   },
   "outputs": [
    {
     "name": "stdout",
     "output_type": "stream",
     "text": [
      "3.0\n",
      "30.0\n",
      "-7.0\n",
      "7.0\n",
      "2.0\n",
      "2.0\n"
     ]
    }
   ],
   "source": [
    "!python calculator.py 1+2 \n",
    "!python calculator.py 10+20 \n",
    "!python calculator.py 15-22 \n",
    "!python calculator.py 22-15 \n",
    "!python calculator.py 20/10 \n",
    "!python calculator.py 2*1   "
   ]
  },
  {
   "cell_type": "markdown",
   "metadata": {},
   "source": [
    "# Part 3: String Processing"
   ]
  },
  {
   "cell_type": "markdown",
   "metadata": {},
   "source": [
    "(1) Revisit:  Write a function **countString** with two arguments *raw_string* and *string_to_count*. Your function should return the number of times of *string_to_count* occurs in the the *raw_string* argument. In addition, Your function should be case insensitive in this time. \n",
    "\n",
    "[optional hints] [count](https://docs.python.org/2/library/string.html#string.count), [split](https://docs.python.org/2/library/string.html#string.split) method or [find](https://docs.python.org/2/library/string.html#string.find) method might be useful.\n",
    "\n",
    "For example, *countString('welcome to nyc(NYC) data science academy!', 'nyc')* should return 2."
   ]
  },
  {
   "cell_type": "code",
   "execution_count": 84,
   "metadata": {
    "collapsed": true
   },
   "outputs": [],
   "source": [
    "### write your function here\n",
    "def countString(e,s):\n",
    "    expr = e.lower()\n",
    "    std = s.lower()\n",
    "    a = expr.count(std)\n",
    "    print a\n",
    "    return a\n",
    "    \n"
   ]
  },
  {
   "cell_type": "code",
   "execution_count": 85,
   "metadata": {
    "collapsed": false
   },
   "outputs": [
    {
     "name": "stdout",
     "output_type": "stream",
     "text": [
      "1\n"
     ]
    },
    {
     "data": {
      "text/plain": [
       "1"
      ]
     },
     "execution_count": 85,
     "metadata": {},
     "output_type": "execute_result"
    }
   ],
   "source": [
    "countString('Welcome to nyc DATA SCIENCE ACADEMY!', 'NYC') # 1"
   ]
  },
  {
   "cell_type": "code",
   "execution_count": 86,
   "metadata": {
    "collapsed": false
   },
   "outputs": [
    {
     "name": "stdout",
     "output_type": "stream",
     "text": [
      "2\n"
     ]
    },
    {
     "data": {
      "text/plain": [
       "2"
      ]
     },
     "execution_count": 86,
     "metadata": {},
     "output_type": "execute_result"
    }
   ],
   "source": [
    "countString('Welcome to nyc(NYC) data science academy!', 'nyc')# 2"
   ]
  },
  {
   "cell_type": "code",
   "execution_count": 87,
   "metadata": {
    "collapsed": false
   },
   "outputs": [
    {
     "name": "stdout",
     "output_type": "stream",
     "text": [
      "42\n"
     ]
    },
    {
     "data": {
      "text/plain": [
       "42"
      ]
     },
     "execution_count": 87,
     "metadata": {},
     "output_type": "execute_result"
    }
   ],
   "source": [
    "countString('welcome to nyc(NYC) data science academy!', '') # # 41 and 42 are fine.  The question tests the boundary condition for your code"
   ]
  },
  {
   "cell_type": "markdown",
   "metadata": {},
   "source": [
    "(2) Write a function **removeDuplicates** with an argument *raw_string*.  Your function should return a new string with the original order of letters but all duplicated letters removed.\n",
    "\n",
    "For example, *removeDuplicates('welcome to NYC Data Science Academy')* should return 'welcom tNYCDaSinAdy'."
   ]
  },
  {
   "cell_type": "code",
   "execution_count": 88,
   "metadata": {
    "collapsed": true
   },
   "outputs": [],
   "source": [
    "### write your function here\n",
    "def removeDuplicates(x):\n",
    "    a = ''\n",
    "    for i in x:\n",
    "        if i not in a:\n",
    "            a = a + i\n",
    "    return a"
   ]
  },
  {
   "cell_type": "code",
   "execution_count": 89,
   "metadata": {
    "collapsed": false
   },
   "outputs": [
    {
     "data": {
      "text/plain": [
       "'welcom tNYCDaSinAdy'"
      ]
     },
     "execution_count": 89,
     "metadata": {},
     "output_type": "execute_result"
    }
   ],
   "source": [
    "removeDuplicates('welcome to NYC Data Science Academy') # 'welcom tNYCDaSinAdy'"
   ]
  },
  {
   "cell_type": "markdown",
   "metadata": {},
   "source": [
    "(3) [Leetcode: Reverse Words in a String](https://leetcode.com/problems/reverse-words-in-a-string/)\n",
    "\n",
    "Write a function reverseString with an argument *raw_string*.  Your function should return a new string, reverse the *raw_string* word by word.\n",
    "\n",
    "For example *reverseString(\"welcome to NYC Data Science Academy\")* should return \"Academy Science Data NYC to welcome\"."
   ]
  },
  {
   "cell_type": "code",
   "execution_count": 111,
   "metadata": {
    "collapsed": true
   },
   "outputs": [],
   "source": [
    "### write your function here\n",
    "def reverseString(x):\n",
    "    words = x.split()\n",
    "    n = len(words)\n",
    "    n = n-1\n",
    "    a = ''\n",
    "    while n >= 0:\n",
    "        a = a + words[n] + ' '\n",
    "        n = n - 1\n",
    "    return a\n",
    "        "
   ]
  },
  {
   "cell_type": "code",
   "execution_count": 112,
   "metadata": {
    "collapsed": false
   },
   "outputs": [
    {
     "data": {
      "text/plain": [
       "'Academy Science Data NYC to welcome '"
      ]
     },
     "execution_count": 112,
     "metadata": {},
     "output_type": "execute_result"
    }
   ],
   "source": [
    "reverseString(\"welcome to NYC Data Science Academy\") # \"Academy Science Data NYC to welcome\"."
   ]
  },
  {
   "cell_type": "code",
   "execution_count": null,
   "metadata": {
    "collapsed": true
   },
   "outputs": [],
   "source": []
  },
  {
   "cell_type": "code",
   "execution_count": null,
   "metadata": {
    "collapsed": true
   },
   "outputs": [],
   "source": []
  }
 ],
 "metadata": {
  "kernelspec": {
   "display_name": "Python 2",
   "language": "python",
   "name": "python2"
  },
  "language_info": {
   "codemirror_mode": {
    "name": "ipython",
    "version": 2
   },
   "file_extension": ".py",
   "mimetype": "text/x-python",
   "name": "python",
   "nbconvert_exporter": "python",
   "pygments_lexer": "ipython2",
   "version": "2.7.9"
  }
 },
 "nbformat": 4,
 "nbformat_minor": 0
}
