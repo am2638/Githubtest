{
 "cells": [
  {
   "cell_type": "markdown",
   "metadata": {},
   "source": [
    "** Save your ipython notebook with your name and push to bootcamp002_student/pythonWeek1Day3/**"
   ]
  },
  {
   "cell_type": "markdown",
   "metadata": {
    "internals": {
     "slide_helper": "subslide_end",
     "slide_type": "subslide"
    },
    "slide_helper": "slide_end",
    "slideshow": {
     "slide_type": "slide"
    }
   },
   "source": [
    "# Part1: Numpy"
   ]
  },
  {
   "cell_type": "markdown",
   "metadata": {
    "internals": {
     "slide_type": "subslide"
    },
    "slideshow": {
     "slide_type": "slide"
    }
   },
   "source": [
    "## Array Creation\n",
    "Construct the following arrays without listing all the elements. For example, you should use **np.ones(3)** to generate a array *array([1, 1, 1])* instead of **np.array([1, 1, 1])**."
   ]
  },
  {
   "cell_type": "markdown",
   "metadata": {
    "internals": {},
    "slideshow": {
     "slide_type": "-"
    }
   },
   "source": [
    "(1) Construct an array of **float** ranging from 0-10."
   ]
  },
  {
   "cell_type": "code",
   "execution_count": 1,
   "metadata": {
    "collapsed": false,
    "internals": {},
    "slideshow": {
     "slide_type": "-"
    }
   },
   "outputs": [
    {
     "data": {
      "text/plain": [
       "array([  0.,   1.,   2.,   3.,   4.,   5.,   6.,   7.,   8.,   9.,  10.])"
      ]
     },
     "execution_count": 1,
     "metadata": {},
     "output_type": "execute_result"
    }
   ],
   "source": [
    "### write your code here\n",
    "import numpy as np\n",
    "np.arange(10.5)"
   ]
  },
  {
   "cell_type": "markdown",
   "metadata": {
    "internals": {},
    "slideshow": {
     "slide_type": "-"
    }
   },
   "source": [
    "(2) Create an array containing 7 evenly spaced numbers between 0 and 23."
   ]
  },
  {
   "cell_type": "code",
   "execution_count": 2,
   "metadata": {
    "collapsed": false,
    "internals": {},
    "slideshow": {
     "slide_type": "-"
    }
   },
   "outputs": [
    {
     "data": {
      "text/plain": [
       "array([ 0,  7, 14, 21])"
      ]
     },
     "execution_count": 2,
     "metadata": {},
     "output_type": "execute_result"
    }
   ],
   "source": [
    "### write your code here\n",
    "np.arange(0,23,7)"
   ]
  },
  {
   "cell_type": "markdown",
   "metadata": {
    "internals": {},
    "slideshow": {
     "slide_type": "-"
    }
   },
   "source": [
    "(3) Create a 3x3 matrix with values ranging from 0 to 8."
   ]
  },
  {
   "cell_type": "code",
   "execution_count": 6,
   "metadata": {
    "collapsed": false,
    "internals": {},
    "slideshow": {
     "slide_type": "-"
    }
   },
   "outputs": [
    {
     "data": {
      "text/plain": [
       "matrix([[1, 2, 3],\n",
       "        [4, 5, 6],\n",
       "        [7, 8, 9]])"
      ]
     },
     "execution_count": 6,
     "metadata": {},
     "output_type": "execute_result"
    }
   ],
   "source": [
    "### write your code here\n",
    "from numpy import mat\n",
    "m1 = mat([[1,2,3],[4,5,6],[7,8,9]])\n",
    "m1"
   ]
  },
  {
   "cell_type": "markdown",
   "metadata": {
    "internals": {},
    "slideshow": {
     "slide_type": "-"
    }
   },
   "source": [
    "(4) Create a 5x5 matrix with row values ranging from 0 to 4.\n",
    "\n",
    "[Option] Is the result a copy-by-reference of copy-by-value?  If you change one cell, will it change other cells?\n",
    "\n",
    "$$\\left[\n",
    "\\begin{array}{cc}\n",
    "0 & 1 & 2 & 3 & 4 \\\\\n",
    "0 & 1 & 2 & 3 & 4 \\\\\n",
    "0 & 1 & 2 & 3 & 4 \\\\\n",
    "0 & 1 & 2 & 3 & 4 \\\\\n",
    "0 & 1 & 2 & 3 & 4 \n",
    "\\end{array}\n",
    "\\right]$$"
   ]
  },
  {
   "cell_type": "code",
   "execution_count": 12,
   "metadata": {
    "collapsed": false,
    "internals": {
     "slide_helper": "subslide_end"
    },
    "slide_helper": "slide_end",
    "slideshow": {
     "slide_type": "-"
    }
   },
   "outputs": [
    {
     "data": {
      "text/plain": [
       "matrix([[0, 1, 2, 3, 4],\n",
       "        [0, 1, 2, 3, 4],\n",
       "        [0, 1, 2, 3, 4],\n",
       "        [0, 1, 2, 3, 4],\n",
       "        [0, 1, 2, 3, 4]])"
      ]
     },
     "execution_count": 12,
     "metadata": {},
     "output_type": "execute_result"
    }
   ],
   "source": [
    "### write your code here\n",
    "x=0\n",
    "m2 = mat([[x,x+1,x+2,x+3,x+4],[x,x+1,x+2,x+3,x+4],[x,x+1,x+2,x+3,x+4],[x,x+1,x+2,x+3,x+4],[x,x+1,x+2,x+3,x+4]])\n",
    "m2"
   ]
  },
  {
   "cell_type": "markdown",
   "metadata": {
    "internals": {
     "slide_type": "subslide"
    },
    "slideshow": {
     "slide_type": "slide"
    }
   },
   "source": [
    "(5) A magic square is a matrix all of whose row sums, column sums and the sums of the two diagonals are the same. (One diagonal of a matrix goes from the top left to the bottom right, the other diagonal goes from top right to bottom left.)\n",
    "\n",
    "Further more, a $n \\times n$ magic matrix is constructed by $(1, 2, 3 ... n^2)$. For example, here is a $3\\times 3$ magic array:\n",
    "$$\\left[\n",
    "\\begin{array}{cc}\n",
    "8 & 1 & 6 \\\\\n",
    "3 & 5 & 7 \\\\\n",
    "4 & 9 & 2\n",
    "\\end{array}\n",
    "\\right]$$\n",
    "\n",
    "Each number can only be used once.\n",
    "\n",
    "Write a function to check whether a matrix is a magic matrix. You should check these three properties:\n",
    "\n",
    "1. Is it a square matrix?\n",
    "2. Is it constructed by $(1, 2, 3, ... n^2)$?\n",
    "3. Are the sums of rows, columns and diags the same? (Hint: the function **np.diag** may be useful)\n"
   ]
  },
  {
   "cell_type": "code",
   "execution_count": 28,
   "metadata": {
    "collapsed": false,
    "internals": {},
    "slideshow": {
     "slide_type": "-"
    }
   },
   "outputs": [],
   "source": [
    "### write your code here\n",
    "def isMagic(x):\n",
    "\n",
    "    import numpy as np\n",
    "    from numpy import mat\n",
    "    from numpy import shape\n",
    "    m1 = mat(x)\n",
    "    shp = shape(m1)\n",
    "    test1 = 'f'\n",
    "    test2 = 'f'\n",
    "    test3 = 'f'\n",
    "    \n",
    "    if shp[0]==shp[1]:\n",
    "        print \"Squared Matrix\"\n",
    "        test1 = 't'\n",
    "    else:\n",
    "        print \"Not a squared matrix\"\n",
    "\n",
    "# Test 2\n",
    "    rows = shp[0]\n",
    "    cols = shp[1]\n",
    "    a = []\n",
    "    for i in range(rows):\n",
    "        for j in range(cols):\n",
    "            cell = m1[i,j]\n",
    "            if cell >= 1 and cell <= (rows**2):\n",
    "                \n",
    "                if cell not in a:\n",
    "                    a = a + cell\n",
    "                    test2 = 't'\n",
    "                else:\n",
    "                    test2 = 'f'\n",
    "                    break\n",
    "            else:\n",
    "                test2 = 'f'\n",
    "                break\n",
    "# Test 3   \n",
    "    cols = shp[1]\n",
    "    rowsum = []\n",
    "    colsum = []\n",
    "    diagsum = []\n",
    "    n = 0\n",
    "    p = 0\n",
    "    r = 0\n",
    "    for p in range(rows):\n",
    "        for n in range(cols):\n",
    "            r  = r + m1[p,n]\n",
    "        rowsum.append(r)\n",
    "        r = 0\n",
    "\n",
    "    print rowsum\n",
    "\n",
    "    c = 0\n",
    "    for p in range(cols):\n",
    "        for n in range(rows):\n",
    "            c  = c + m1[n,p]\n",
    "        colsum.append(c)\n",
    "        c = 0\n",
    "    print colsum\n",
    "\n",
    "    diag1 = np.diag(m1)\n",
    "    dsum1 = sum(diag1)\n",
    "    diagsum.append(dsum1)\n",
    "    diag2 =np.diag(np.fliplr(m1))\n",
    "    dsum2 = sum(diag2)\n",
    "    diagsum.append(dsum2)\n",
    "    diagsum\n",
    "\n",
    "\n",
    "    merge_rows_cols_sum = rowsum + colsum + diagsum\n",
    "    print merge_rows_cols_sum\n",
    "\n",
    "\n",
    "    def all_same(d):\n",
    "        return all(e == d[0] for e in d)\n",
    "\n",
    "    f_all = all_same(merge_rows_cols_sum)\n",
    "    if f_all == True:\n",
    "        test3 = 't'\n",
    "\n",
    "    \n",
    "# Now check the outcome of all the 3 tests\n",
    "    if test1 == 't' and test2 =='t' and test3 == 't':\n",
    "        print True\n",
    "    else:\n",
    "        print False"
   ]
  },
  {
   "cell_type": "markdown",
   "metadata": {
    "internals": {},
    "slideshow": {
     "slide_type": "-"
    }
   },
   "source": [
    "Here are some tests:"
   ]
  },
  {
   "cell_type": "code",
   "execution_count": 29,
   "metadata": {
    "collapsed": false,
    "internals": {},
    "slideshow": {
     "slide_type": "-"
    }
   },
   "outputs": [
    {
     "name": "stdout",
     "output_type": "stream",
     "text": [
      "Squared Matrix\n",
      "[1, 1]\n",
      "[1, 1]\n",
      "[1, 1, 1, 1, 0, 2]\n",
      "False\n"
     ]
    }
   ],
   "source": [
    "test1 = np.array([[0, 1], \n",
    "                  [1, 0]]) \n",
    "isMagic(test1) # False"
   ]
  },
  {
   "cell_type": "code",
   "execution_count": 30,
   "metadata": {
    "collapsed": false,
    "internals": {},
    "slideshow": {
     "slide_type": "-"
    }
   },
   "outputs": [
    {
     "name": "stdout",
     "output_type": "stream",
     "text": [
      "Squared Matrix\n",
      "[15, 15, 15]\n",
      "[15, 15, 15]\n",
      "[15, 15, 15, 15, 15, 15, 15, 15]\n",
      "True\n"
     ]
    }
   ],
   "source": [
    "test2 = np.array([[8, 1, 6],\n",
    "                  [3, 5, 7],\n",
    "                  [4, 9, 2]])\n",
    "isMagic(test2) # True"
   ]
  },
  {
   "cell_type": "code",
   "execution_count": 31,
   "metadata": {
    "collapsed": false,
    "internals": {},
    "slideshow": {
     "slide_type": "-"
    }
   },
   "outputs": [
    {
     "name": "stdout",
     "output_type": "stream",
     "text": [
      "Squared Matrix\n",
      "[34, 34, 34, 34]\n",
      "[34, 34, 34, 34]\n",
      "[34, 34, 34, 34, 34, 34, 34, 34, 34, 34]\n",
      "True\n"
     ]
    }
   ],
   "source": [
    "test3 = np.array([[16, 2, 3, 13],\n",
    "                  [5, 11, 10, 8],\n",
    "                  [9,  7, 6, 12],\n",
    "                  [4, 14, 15, 1]]) \n",
    "isMagic(test3) # True"
   ]
  },
  {
   "cell_type": "code",
   "execution_count": 32,
   "metadata": {
    "collapsed": false,
    "internals": {},
    "slideshow": {
     "slide_type": "-"
    }
   },
   "outputs": [
    {
     "name": "stdout",
     "output_type": "stream",
     "text": [
      "Squared Matrix\n",
      "[65, 65, 65, 65, 65]\n",
      "[65, 65, 65, 65, 65]\n",
      "[65, 65, 65, 65, 65, 65, 65, 65, 65, 65, 65, 65]\n",
      "True\n"
     ]
    }
   ],
   "source": [
    "test4 = np.array([[17, 24,  1,  8, 15],\n",
    "                  [23,  5,  7, 14, 16],\n",
    "                  [4,   6, 13, 20, 22],\n",
    "                  [10, 12, 19, 21,  3],\n",
    "                  [11, 18, 25, 2,   9]]) \n",
    "isMagic(test4) # True"
   ]
  },
  {
   "cell_type": "code",
   "execution_count": 33,
   "metadata": {
    "collapsed": false,
    "internals": {
     "slide_helper": "subslide_end"
    },
    "slide_helper": "slide_end",
    "slideshow": {
     "slide_type": "-"
    }
   },
   "outputs": [
    {
     "name": "stdout",
     "output_type": "stream",
     "text": [
      "Squared Matrix\n",
      "[111, 111, 111, 111, 111, 111]\n",
      "[111, 111, 111, 111, 111, 111]\n",
      "[111, 111, 111, 111, 111, 111, 111, 111, 111, 111, 111, 111, 111, 111]\n",
      "True\n"
     ]
    }
   ],
   "source": [
    "test5 = np.array([[35, 1, 6, 26, 19, 24],\n",
    "                  [3, 32, 7, 21, 23, 25],\n",
    "                  [31, 9, 2, 22, 27, 20],\n",
    "                  [8, 28, 33, 17, 10,15],\n",
    "                  [30, 5, 34, 12, 14,16],\n",
    "                  [4, 36, 29, 13, 18,11]])\n",
    "isMagic(test5) # True"
   ]
  },
  {
   "cell_type": "markdown",
   "metadata": {
    "internals": {
     "slide_helper": "subslide_end",
     "slide_type": "subslide"
    },
    "slide_helper": "slide_end",
    "slideshow": {
     "slide_type": "slide"
    }
   },
   "source": [
    "# Part 2: Scipy"
   ]
  },
  {
   "cell_type": "markdown",
   "metadata": {
    "internals": {
     "slide_type": "subslide"
    },
    "slideshow": {
     "slide_type": "slide"
    }
   },
   "source": [
    "(1) Generate a 100*2 array from a t distribution with degree 30.(Find t distribution in [the document](http://docs.scipy.org/doc/scipy/reference/stats.html))"
   ]
  },
  {
   "cell_type": "code",
   "execution_count": 43,
   "metadata": {
    "collapsed": false
   },
   "outputs": [
    {
     "data": {
      "text/plain": [
       "array([ -3.89885569e-01,   2.48612632e-01,   7.21664787e-01,\n",
       "         1.45698487e+00,  -7.70238231e-01,   1.69490431e+00,\n",
       "        -2.20903355e+00,   1.43974697e+00,   9.49845199e-01,\n",
       "         1.56897824e+00,  -1.25256816e+00,   9.69521470e-01,\n",
       "         1.65706450e+00,   9.78229793e-01,   2.96037315e-01,\n",
       "         1.24139503e+00,   1.02852101e+00,  -5.42235116e-01,\n",
       "         1.06577622e-01,  -1.05667953e+00,   6.38268974e-01,\n",
       "        -1.32673287e+00,  -3.81224041e-01,  -1.12843572e+00,\n",
       "        -7.37526758e-01,  -1.64472137e-01,  -8.64104025e-01,\n",
       "         2.56130431e+00,   4.76132117e-01,  -1.48663156e+00,\n",
       "        -6.63424066e-01,   7.06186277e-01,  -3.09403760e-01,\n",
       "         2.86152667e+00,   5.24164108e-01,   8.55236398e-02,\n",
       "        -7.45637981e-01,   4.12506612e-01,   3.37700192e+00,\n",
       "         9.82243572e-02,   1.35257011e-01,  -1.21061884e-01,\n",
       "        -2.94369351e-01,  -9.72706261e-02,   4.36765804e-01,\n",
       "        -1.23833555e+00,   8.63652276e-01,  -2.66692214e-01,\n",
       "         1.30891830e+00,  -1.48248845e+00,  -1.68377538e+00,\n",
       "        -4.58776103e-02,   6.87455886e-01,  -7.24178569e-01,\n",
       "        -6.69616394e-01,   2.44552193e+00,   6.40360616e-01,\n",
       "        -1.32195057e+00,   5.00486869e-01,   1.20138409e+00,\n",
       "         1.50609246e+00,   6.04268648e-01,   2.40862777e-01,\n",
       "        -9.76996507e-01,   6.26737568e-01,   6.96922899e-01,\n",
       "        -1.13754935e+00,  -3.24336187e-02,  -1.91376690e+00,\n",
       "         1.91647791e+00,  -1.96300480e+00,   2.60205281e-02,\n",
       "        -4.58031839e-01,   3.47168256e-01,   2.58748766e-01,\n",
       "         8.82289155e-01,  -1.80080442e+00,   1.79392331e+00,\n",
       "         1.13201214e+00,  -2.12310002e-01,   3.15695867e-01,\n",
       "         4.57008878e-01,  -4.23815637e-01,   4.53145420e-01,\n",
       "         4.40203380e-02,  -8.79083441e-01,   3.53731668e-01,\n",
       "        -8.61688689e-02,  -2.74509866e-01,  -4.55410355e-01,\n",
       "        -6.21287640e-01,  -2.45887916e-01,   4.44431059e-01,\n",
       "         2.92109064e-01,  -6.07457306e-01,   1.08985913e-01,\n",
       "        -9.21432785e-01,   1.56289096e-03,   9.25378560e-01,\n",
       "         1.07779912e+00,   5.53058041e-02,  -1.49120302e+00,\n",
       "        -2.12614500e-01,  -1.17628085e+00,  -3.80633313e-02,\n",
       "         1.64975164e+00,   8.67812010e-02,   1.15033013e+00,\n",
       "         4.37241474e-01,  -4.62119147e-01,   1.50020244e+00,\n",
       "         1.25332692e+00,   1.17393046e+00,   6.27558243e-01,\n",
       "         9.12096160e-02,  -9.67402861e-01,   2.45045506e-01,\n",
       "        -7.94162197e-01,  -6.06607235e-01,  -1.61281706e+00,\n",
       "         1.54176500e+00,   4.66453749e-01,  -5.68756312e-01,\n",
       "        -6.65425061e-01,   7.69308531e-01,   4.21989429e-01,\n",
       "        -2.05923017e+00,  -2.06873704e-01,  -2.48399243e+00,\n",
       "         8.31017471e-01,  -3.09835817e-01,  -8.40140253e-02,\n",
       "        -1.18738239e+00,  -6.05130400e-01,   1.47958843e+00,\n",
       "         2.09972485e+00,  -3.75348715e-01,  -1.67883061e+00,\n",
       "         1.71032916e+00,   1.75257160e+00,  -4.43257484e-01,\n",
       "         8.13702793e-01,  -1.33295455e+00,  -1.20312316e+00,\n",
       "         1.39852469e+00,   4.79588713e-01,  -1.48086833e-01,\n",
       "        -6.59684631e-03,  -5.14221083e-01,   1.46311732e+00,\n",
       "        -1.95347924e+00,  -1.42692586e+00,  -3.89276098e-02,\n",
       "        -1.35586215e+00,  -5.59169645e-01,   2.44526744e+00,\n",
       "        -1.97350382e-01,   9.28237282e-01,  -1.42050458e-01,\n",
       "         7.30996652e-02,  -1.76331173e+00,   2.86914902e-01,\n",
       "         1.42428724e+00,  -6.07392517e-01,  -2.22347833e-01,\n",
       "         1.72768411e-01,  -5.51147058e-01,  -1.90178541e+00,\n",
       "         1.75784979e+00,  -9.84120738e-02,  -3.44406474e-01,\n",
       "        -3.44857685e-01,   3.15511315e-01,  -3.67476763e-02,\n",
       "        -8.77540076e-01,  -2.39735812e-01,   8.05979657e-01,\n",
       "         7.56095555e-01,  -8.56232939e-01,  -5.81289347e-01,\n",
       "        -8.12440944e-01,  -5.52433968e-01,   1.98999042e+00,\n",
       "         4.70888417e-01,  -2.85645082e-01,  -7.07684438e-01,\n",
       "        -3.11341478e-02,   1.40630301e-01,  -1.67726519e+00,\n",
       "         1.35392004e+00,  -1.49536115e+00,  -1.73585112e-02,\n",
       "         1.13409689e+00,  -9.67659815e-01,  -9.83607237e-01,\n",
       "        -1.49850198e+00,   6.19436778e-01,   1.31857595e+00,\n",
       "         1.51350128e+00,  -7.45912334e-01])"
      ]
     },
     "execution_count": 43,
     "metadata": {},
     "output_type": "execute_result"
    }
   ],
   "source": [
    "### write your code here\n",
    "import scipy\n",
    "from scipy import stats\n",
    "x = stats.t.rvs(30,size=200)\n",
    "x"
   ]
  },
  {
   "cell_type": "markdown",
   "metadata": {},
   "source": [
    "(2) According to this picture, does the \"Petal Length\" of different species has significant difference? Using the **Analysis of Variance** varify your answer.\n",
    "\n",
    "![iris](http://www.nycdatascience.com/slides/BOOTCAMP2/content/week2/pic/scatter.png)"
   ]
  },
  {
   "cell_type": "code",
   "execution_count": 63,
   "metadata": {
    "collapsed": false
   },
   "outputs": [
    {
     "name": "stdout",
     "output_type": "stream",
     "text": [
      "['setosa' 'setosa' 'setosa' 'setosa' 'setosa' 'setosa' 'setosa' 'setosa'\n",
      " 'setosa' 'setosa' 'setosa' 'setosa' 'setosa' 'setosa' 'setosa' 'setosa'\n",
      " 'setosa' 'setosa' 'setosa' 'setosa' 'setosa' 'setosa' 'setosa' 'setosa'\n",
      " 'setosa' 'setosa' 'setosa' 'setosa' 'setosa' 'setosa' 'setosa' 'setosa'\n",
      " 'setosa' 'setosa' 'setosa' 'setosa' 'setosa' 'setosa' 'setosa' 'setosa'\n",
      " 'setosa' 'setosa' 'setosa' 'setosa' 'setosa' 'setosa' 'setosa' 'setosa'\n",
      " 'setosa' 'setosa' 'versicolor' 'versicolor' 'versicolor' 'versicolor'\n",
      " 'versicolor' 'versicolor' 'versicolor' 'versicolor' 'versicolor'\n",
      " 'versicolor' 'versicolor' 'versicolor' 'versicolor' 'versicolor'\n",
      " 'versicolor' 'versicolor' 'versicolor' 'versicolor' 'versicolor'\n",
      " 'versicolor' 'versicolor' 'versicolor' 'versicolor' 'versicolor'\n",
      " 'versicolor' 'versicolor' 'versicolor' 'versicolor' 'versicolor'\n",
      " 'versicolor' 'versicolor' 'versicolor' 'versicolor' 'versicolor'\n",
      " 'versicolor' 'versicolor' 'versicolor' 'versicolor' 'versicolor'\n",
      " 'versicolor' 'versicolor' 'versicolor' 'versicolor' 'versicolor'\n",
      " 'versicolor' 'versicolor' 'versicolor' 'versicolor' 'versicolor'\n",
      " 'versicolor' 'virginica' 'virginica' 'virginica' 'virginica' 'virginica'\n",
      " 'virginica' 'virginica' 'virginica' 'virginica' 'virginica' 'virginica'\n",
      " 'virginica' 'virginica' 'virginica' 'virginica' 'virginica' 'virginica'\n",
      " 'virginica' 'virginica' 'virginica' 'virginica' 'virginica' 'virginica'\n",
      " 'virginica' 'virginica' 'virginica' 'virginica' 'virginica' 'virginica'\n",
      " 'virginica' 'virginica' 'virginica' 'virginica' 'virginica' 'virginica'\n",
      " 'virginica' 'virginica' 'virginica' 'virginica' 'virginica' 'virginica'\n",
      " 'virginica' 'virginica' 'virginica' 'virginica' 'virginica' 'virginica'\n",
      " 'virginica' 'virginica' 'virginica']\n",
      "[1, 1, 1, 1, 1, 1, 1, 1, 1, 1, 1, 1, 1, 1, 1, 1, 1, 1, 1, 1, 1, 1, 1, 1, 1, 1, 1, 1, 1, 1, 1, 1, 1, 1, 1, 1, 1, 1, 1, 1, 1, 1, 1, 1, 1, 1, 1, 1, 1, 1, 2, 2, 2, 2, 2, 2, 2, 2, 2, 2, 2, 2, 2, 2, 2, 2, 2, 2, 2, 2, 2, 2, 2, 2, 2, 2, 2, 2, 2, 2, 2, 2, 2, 2, 2, 2, 2, 2, 2, 2, 2, 2, 2, 2, 2, 2, 2, 2, 2, 2, 3, 3, 3, 3, 3, 3, 3, 3, 3, 3, 3, 3, 3, 3, 3, 3, 3, 3, 3, 3, 3, 3, 3, 3, 3, 3, 3, 3, 3, 3, 3, 3, 3, 3, 3, 3, 3, 3, 3, 3, 3, 3, 3, 3, 3, 3, 3, 3, 3, 3]\n"
     ]
    }
   ],
   "source": [
    "import pandas as pd\n",
    "from numpy import array\n",
    "iris = pd.read_csv('C:/Users/Anurag/Desktop/Python/iris.csv') # the iris.csv is in the zipped file\n",
    "PetalLength = iris['Petal.Length']\n",
    "Species = iris['Species']\n",
    "pl = array(PetalLength)\n",
    "sp = array(Species)\n",
    "sp_num = []\n",
    "print sp\n",
    "for i in sp:\n",
    "    if i == 'setosa':\n",
    "        sp_num.append(1)\n",
    "    if i == 'versicolor':\n",
    "        sp_num.append(2)\n",
    "    if i == 'virginica':\n",
    "        sp_num.append(3)\n",
    "\n",
    "print sp_num"
   ]
  },
  {
   "cell_type": "code",
   "execution_count": 65,
   "metadata": {
    "collapsed": false
   },
   "outputs": [
    {
     "data": {
      "text/plain": [
       "(122.40119867012906, 4.5840145994250827e-24)"
      ]
     },
     "execution_count": 65,
     "metadata": {},
     "output_type": "execute_result"
    }
   ],
   "source": [
    "### write your code here\n",
    "stats.f_oneway(pl,sp_num)"
   ]
  },
  {
   "cell_type": "code",
   "execution_count": null,
   "metadata": {
    "collapsed": true
   },
   "outputs": [],
   "source": []
  }
 ],
 "metadata": {
  "celltoolbar": "Slideshow",
  "kernelspec": {
   "display_name": "Python 2",
   "language": "python",
   "name": "python2"
  },
  "language_info": {
   "codemirror_mode": {
    "name": "ipython",
    "version": 2
   },
   "file_extension": ".py",
   "mimetype": "text/x-python",
   "name": "python",
   "nbconvert_exporter": "python",
   "pygments_lexer": "ipython2",
   "version": "2.7.10"
  }
 },
 "nbformat": 4,
 "nbformat_minor": 0
}
